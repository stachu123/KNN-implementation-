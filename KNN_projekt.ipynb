{
 "cells": [
  {
   "cell_type": "code",
   "execution_count": 6,
   "id": "133eb727-0462-45df-920f-a2139cd7d29e",
   "metadata": {},
   "outputs": [],
   "source": [
    "import numpy as np\n",
    "import pandas as pd\n",
    "from sklearn import datasets\n",
    "from sklearn.model_selection import train_test_split\n",
    "from collections import Counter"
   ]
  },
  {
   "cell_type": "markdown",
   "id": "d78a17a4-4a81-41e2-b067-91aa5ac78512",
   "metadata": {},
   "source": [
    "### Załadowanie danych i okreslenie zmiennych x i y"
   ]
  },
  {
   "cell_type": "code",
   "execution_count": 7,
   "id": "9734c45b-e361-4602-99ca-118083d1d35b",
   "metadata": {},
   "outputs": [],
   "source": [
    "iris = datasets.load_iris()\n",
    "X=iris.data\n",
    "y=iris.target"
   ]
  },
  {
   "cell_type": "code",
   "execution_count": 8,
   "id": "2c036474-c575-4cec-8447-591e629f12c8",
   "metadata": {},
   "outputs": [
    {
     "name": "stdout",
     "output_type": "stream",
     "text": [
      "data\n",
      "target\n",
      "frame\n",
      "target_names\n",
      "DESCR\n",
      "feature_names\n",
      "filename\n",
      "data_module\n"
     ]
    }
   ],
   "source": [
    "for keys in iris.keys() :\n",
    "    print(keys)"
   ]
  },
  {
   "cell_type": "markdown",
   "id": "fd7577f5-280a-4af5-9f19-a24547a4a088",
   "metadata": {},
   "source": [
    "### Podział danych na testowe i treningowe (70% traningowe)"
   ]
  },
  {
   "cell_type": "code",
   "execution_count": 4,
   "id": "1552dd05-103a-4fb0-bfd5-985b6f920222",
   "metadata": {},
   "outputs": [],
   "source": [
    "X_train, X_test, y_train, y_test = train_test_split(X, y, test_size=0.3, random_state=42)"
   ]
  },
  {
   "cell_type": "markdown",
   "id": "348904d9-4d25-4d92-957f-cc6967de34ed",
   "metadata": {},
   "source": [
    "# Wersja podstawowa KNN"
   ]
  },
  {
   "cell_type": "code",
   "execution_count": 44,
   "id": "aebd1e45-f8dc-4557-864c-cc39e0858ec9",
   "metadata": {},
   "outputs": [],
   "source": [
    "class KNN():\n",
    "    def __init__(self, k=3):\n",
    "        self.k = k\n",
    "        #inicjalizacja listy przechowującej prognozy \n",
    "        self.predictions = []\n",
    "\n",
    "    @staticmethod\n",
    "    def euklidesowy(x1, x2):\n",
    "        # oblicza dystans euklidesowy między 2 pounktami\n",
    "        return np.sqrt(np.sum((x1-x2)**2))\n",
    "        \n",
    "    def fit(self, X_train, y_train):\n",
    "        #zapisanie wartosci treningowych do wlasciwosci klasy \n",
    "        self.X= X_train\n",
    "        self.y = y_train\n",
    "        \n",
    "    @staticmethod\n",
    "    def najczestszy(lista):\n",
    "        # funkcja oblicza najczesciej wystepujaca wartosc w liscie \n",
    "        hash = {}\n",
    "        for i in lista:\n",
    "            if i in hash:\n",
    "                hash[i] += 1\n",
    "            else:\n",
    "                hash[i] = 1     \n",
    "                \n",
    "        max_ilosc = 0\n",
    "        najczestsza = None\n",
    "        for label, ilosc in hash.items():\n",
    "            if ilosc > max_ilosc:\n",
    "                max_ilosc = ilosc\n",
    "                najczestsza = label\n",
    "        return najczestsza\n",
    "        \n",
    "\n",
    "    def predict(self, test):\n",
    "        for i in test:\n",
    "            # obliczanie wszystkich odleglosci miedzy punktem w zbiorze testowym a wszystkimi punktami w zbiorze treningowym\n",
    "            odleglosci = [self.euklidesowy(i, x) for x in self.X]\n",
    "\n",
    "            # wybranie indeksow  k najblizszych punktow \n",
    "            indeksy = np.argsort(odleglosci)[:self.k]\n",
    "\n",
    "            # zapisanie klas dla wybranych indeksow w liscie \n",
    "            k_wartosci = [self.y[i] for i in indeksy]\n",
    "\n",
    "            #zapisanie najczesciej wystepujacej wartosci w liscie do listy z prognozami\n",
    "            self.predictions.append(self.najczestszy(k_wartosci))\n",
    "            \n",
    "        return self.predictions\n",
    "            \n",
    "                \n",
    "\n",
    "\n"
   ]
  },
  {
   "cell_type": "markdown",
   "id": "ac8f2546-b3f7-4d1b-9ae3-a938ea294cc6",
   "metadata": {},
   "source": [
    "### Dopasowanie danych do modelu"
   ]
  },
  {
   "cell_type": "code",
   "execution_count": 45,
   "id": "02353e0e-8b11-443c-b054-52512b3e43f0",
   "metadata": {},
   "outputs": [],
   "source": [
    "knn = KNN()\n",
    "knn.fit(X_train, y_train)"
   ]
  },
  {
   "cell_type": "code",
   "execution_count": 46,
   "id": "ef79803a-cd41-4d3a-a3ca-cf79692beb61",
   "metadata": {},
   "outputs": [],
   "source": [
    "prognozy = knn.predict(X_test)"
   ]
  },
  {
   "cell_type": "markdown",
   "id": "79586fb7-e8c0-4067-a56d-88611d0bd771",
   "metadata": {},
   "source": [
    "### Obliczanie dokładności"
   ]
  },
  {
   "cell_type": "code",
   "execution_count": 47,
   "id": "eb1348a7-7ef5-4254-8632-c828eb46ca67",
   "metadata": {},
   "outputs": [
    {
     "data": {
      "text/plain": [
       "1.0"
      ]
     },
     "execution_count": 47,
     "metadata": {},
     "output_type": "execute_result"
    }
   ],
   "source": [
    "np.sum(prognozy == y_test) / len(y_test)"
   ]
  },
  {
   "cell_type": "markdown",
   "id": "84aec0ef-74c9-4a7a-96fb-650fa84d9ef0",
   "metadata": {},
   "source": [
    "# KNN z 3 Metrykami"
   ]
  },
  {
   "cell_type": "code",
   "execution_count": 66,
   "id": "7f4bc5d3-d2f9-4157-ad1d-dde97af7894b",
   "metadata": {},
   "outputs": [],
   "source": [
    "from numpy.linalg import norm\n",
    "\n",
    "class KNN2():\n",
    "    def __init__(self, k=3, metryka='euklides'):\n",
    "        self.k = k\n",
    "        #inicjalizacja listy przechowującej prognozy \n",
    "        self.metryka = metryka\n",
    "\n",
    "    @staticmethod\n",
    "    def euklidesowy(x1, x2):\n",
    "        # oblicza dystans euklidesowy między 2 pounktami\n",
    "        return np.sqrt(np.sum((x1-x2)**2))\n",
    "    \n",
    "    @staticmethod\n",
    "    def manhattan(x1, x2):\n",
    "        return np.abs(np.sum(x1-x2))\n",
    "\n",
    "    @staticmethod\n",
    "    def cosine(x1, x2):\n",
    "       return np.dot(x1,x2)/(norm(x1)*norm(x2))    \n",
    "        \n",
    "    def fit(self, X_train, y_train):\n",
    "        #zapisanie wartosci treningowych do wlasciwosci klasy \n",
    "        self.X= X_train\n",
    "        self.y = y_train\n",
    "        \n",
    "    @staticmethod\n",
    "    def najczestszy(lista):\n",
    "        # funkcja oblicza najczesciej wystepujaca wartosc w liscie \n",
    "        hash = {}\n",
    "        for i in lista:\n",
    "            if i in hash:\n",
    "                hash[i] += 1\n",
    "            else:\n",
    "                hash[i] = 1     \n",
    "                \n",
    "        max_ilosc = 0\n",
    "        najczestsza = None\n",
    "        for label, ilosc in hash.items():\n",
    "            if ilosc > max_ilosc:\n",
    "                max_ilosc = ilosc\n",
    "                najczestsza = label\n",
    "        return najczestsza\n",
    "        \n",
    "\n",
    "    def predict(self, test):\n",
    "        predictions = []\n",
    "        for i in test:\n",
    "            # obliczanie wszystkich odleglosci miedzy punktem w zbiorze testowym a wszystkimi punktami w zbiorze treningowym\n",
    "            if self.metryka == 'euklides':\n",
    "                odleglosci = [self.euklidesowy(i, x) for x in self.X]\n",
    "                \n",
    "            if self.metryka == 'manhattan':\n",
    "                odleglosci = [self.manhattan(i, x) for x in self.X]\n",
    "\n",
    "            if self.metryka == 'cosinus':\n",
    "                odleglosci = np.dot(self.X, i)/(norm(self.X, axis=1)*norm(i))\n",
    "\n",
    "            # wybranie indeksow  k najblizszych punktow \n",
    "            indeksy = np.argsort(odleglosci)[:self.k]\n",
    "            \n",
    "            # zapisanie klas dla wybranych indeksow w liscie \n",
    "            k_wartosci = [self.y[i] for i in indeksy]\n",
    "\n",
    "            #zapisanie najczesciej wystepujacej wartosci w liscie do listy z prognozami\n",
    "            predictions.append(self.najczestszy(k_wartosci))\n",
    "            \n",
    "        return predictions\n",
    "            "
   ]
  },
  {
   "cell_type": "code",
   "execution_count": 149,
   "id": "ab2a5796-c05d-4c19-910d-b35a53c38c87",
   "metadata": {},
   "outputs": [],
   "source": [
    "X_train, X_test, y_train, y_test = train_test_split(X, y, test_size=0.4)"
   ]
  },
  {
   "cell_type": "code",
   "execution_count": 150,
   "id": "ef2ba8f2-c2f3-4bf6-bf9f-1b804fd375c9",
   "metadata": {},
   "outputs": [],
   "source": [
    "knn2 = KNN2(metryka='euklides', k = 3)\n",
    "knn2.fit(X_train, y_train)"
   ]
  },
  {
   "cell_type": "code",
   "execution_count": 151,
   "id": "3341da40-143d-489d-b94b-45b861c0d0e3",
   "metadata": {},
   "outputs": [],
   "source": [
    "prognozy3 = knn2.predict(X_test)"
   ]
  },
  {
   "cell_type": "code",
   "execution_count": 152,
   "id": "517b41e2-a2d6-4f30-b83d-289f2773e863",
   "metadata": {},
   "outputs": [
    {
     "data": {
      "text/plain": [
       "0.95"
      ]
     },
     "execution_count": 152,
     "metadata": {},
     "output_type": "execute_result"
    }
   ],
   "source": [
    "np.sum(prognozy3 == y_test)/ len(y_test)"
   ]
  },
  {
   "cell_type": "markdown",
   "id": "94edbbf6-d38f-4e44-9dba-acd826b9ddf0",
   "metadata": {},
   "source": [
    "# Wersja Wazona"
   ]
  },
  {
   "cell_type": "code",
   "execution_count": 24,
   "id": "09ec55df-ac24-493a-bb02-6a19fb4698b5",
   "metadata": {},
   "outputs": [],
   "source": [
    "class KNN_wazony():\n",
    "    def __init__(self, k=3):\n",
    "        self.k = k\n",
    "        #inicjalizacja listy przechowującej prognozy \n",
    "        self.predictions = []\n",
    "\n",
    "    @staticmethod\n",
    "    def euklidesowy(x1, x2):\n",
    "        # oblicza dystans euklidesowy między 2 pounktami\n",
    "        return np.sqrt(np.sum((x1-x2)**2))\n",
    "        \n",
    "    def fit(self, X_train, y_train):\n",
    "        #zapisanie wartosci treningowych do wlasciwosci klasy \n",
    "        self.X= X_train\n",
    "        self.y = y_train\n",
    "        \n",
    "    @staticmethod\n",
    "    def najczestszy_wazony(self,odleglosci, indeksy):\n",
    "        # funkcja oblicza najczesciej wystepujaca wartosc w liscie \n",
    "        wagi = {}\n",
    "        for i in indeksy:\n",
    "            label = self.y[i]\n",
    "            odleglosc = odleglosci[i]\n",
    "            waga = 1 / (odleglosc + 1e-5)\n",
    "            if label in wagi:\n",
    "                wagi[label] += waga\n",
    "            else:\n",
    "                wagi[label] = waga\n",
    "                \n",
    "        return max(wagi, key=wagi.get)\n",
    "        \n",
    "\n",
    "    def predict(self, test):\n",
    "        for i in test:\n",
    "            # obliczanie wszystkich odleglosci miedzy punktem w zbiorze testowym a wszystkimi punktami w zbiorze treningowym\n",
    "            odleglosci = [self.euklidesowy(i, x) for x in self.X]\n",
    "\n",
    "            # wybranie indeksow  k najblizszych punktow \n",
    "            indeksy = np.argsort(odleglosci)[:self.k]\n",
    "\n",
    "            predykcje = self.najczestszy_wazony(self, odleglosci, indeksy)\n",
    "            \n",
    "            #zapisanie najczesciej wystepujacej wartosci w liscie do listy z prognozami\n",
    "            self.predictions.append(predykcje)\n",
    "            \n",
    "        return self.predictions\n",
    "            \n",
    "                \n"
   ]
  },
  {
   "cell_type": "code",
   "execution_count": 25,
   "id": "394374cb-e9cb-48d8-b550-0845b513bae4",
   "metadata": {},
   "outputs": [],
   "source": [
    "X_train, X_test, y_train, y_test = train_test_split(X, y, test_size=0.4)"
   ]
  },
  {
   "cell_type": "code",
   "execution_count": 26,
   "id": "73cd5cbf-5fb9-4d9b-a33a-2367153b47f2",
   "metadata": {},
   "outputs": [],
   "source": [
    "knn_wazony = KNN_wazony(k = 3)\n",
    "knn_wazony.fit(X_train, y_train)"
   ]
  },
  {
   "cell_type": "code",
   "execution_count": 27,
   "id": "d081ce27-5c31-4eea-8afd-0907dcc567c1",
   "metadata": {},
   "outputs": [],
   "source": [
    "prognozy = knn_wazony.predict(X_test)"
   ]
  },
  {
   "cell_type": "code",
   "execution_count": 28,
   "id": "7a354fd4-a0d2-42b9-9939-12c2f6734a8d",
   "metadata": {},
   "outputs": [
    {
     "data": {
      "text/plain": [
       "0.9666666666666667"
      ]
     },
     "execution_count": 28,
     "metadata": {},
     "output_type": "execute_result"
    }
   ],
   "source": [
    "np.sum(prognozy == y_test)/ len(y_test)"
   ]
  },
  {
   "cell_type": "code",
   "execution_count": null,
   "id": "cccd938b-df67-44a8-bede-efbd021fe4d3",
   "metadata": {},
   "outputs": [],
   "source": [
    "-"
   ]
  }
 ],
 "metadata": {
  "kernelspec": {
   "display_name": "Python 3 (ipykernel)",
   "language": "python",
   "name": "python3"
  },
  "language_info": {
   "codemirror_mode": {
    "name": "ipython",
    "version": 3
   },
   "file_extension": ".py",
   "mimetype": "text/x-python",
   "name": "python",
   "nbconvert_exporter": "python",
   "pygments_lexer": "ipython3",
   "version": "3.11.7"
  }
 },
 "nbformat": 4,
 "nbformat_minor": 5
}
